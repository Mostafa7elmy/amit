{
  "nbformat": 4,
  "nbformat_minor": 0,
  "metadata": {
    "colab": {
      "provenance": []
    },
    "kernelspec": {
      "name": "python3",
      "display_name": "Python 3"
    },
    "language_info": {
      "name": "python"
    }
  },
  "cells": [
    {
      "cell_type": "markdown",
      "source": [
        "Write a Python program to add an item to a tuple."
      ],
      "metadata": {
        "id": "cI3wz4X4vCee"
      }
    },
    {
      "cell_type": "code",
      "source": [
        "tuple1 = (1, 2, 3)\n",
        "tuple1 = tuple1 + (4,)\n",
        "print(tuple1)\n"
      ],
      "metadata": {
        "colab": {
          "base_uri": "https://localhost:8080/"
        },
        "id": "EAkxr5wfvfqB",
        "outputId": "bee5338d-0000-4a05-e852-ab5c47bd890c"
      },
      "execution_count": 1,
      "outputs": [
        {
          "output_type": "stream",
          "name": "stdout",
          "text": [
            "(1, 2, 3, 4)\n"
          ]
        }
      ]
    },
    {
      "cell_type": "markdown",
      "source": [
        "Write a Python program to sum all the items in a list."
      ],
      "metadata": {
        "id": "AWT3v0L6vr_b"
      }
    },
    {
      "cell_type": "code",
      "source": [
        "list1 = [1, 2, 3, 4, 5]\n",
        "sum = 0\n",
        "for i in list1:\n",
        "    sum += i\n",
        "print(sum)"
      ],
      "metadata": {
        "colab": {
          "base_uri": "https://localhost:8080/"
        },
        "id": "WPDchkxIvjsu",
        "outputId": "e950b3fa-d73f-4df0-c6e2-355dc2428fe1"
      },
      "execution_count": 2,
      "outputs": [
        {
          "output_type": "stream",
          "name": "stdout",
          "text": [
            "15\n"
          ]
        }
      ]
    },
    {
      "cell_type": "markdown",
      "source": [
        "Write a Python program to multiply all the items in a list."
      ],
      "metadata": {
        "id": "aIcKwpZWwHBb"
      }
    },
    {
      "cell_type": "code",
      "source": [
        "list1 = [1, 2, 3, 4, 5]\n",
        "multiply = 1\n",
        "for i in list1:\n",
        "    multiply *= i\n",
        "print(multiply)"
      ],
      "metadata": {
        "colab": {
          "base_uri": "https://localhost:8080/"
        },
        "id": "HQ0rDOGdv03y",
        "outputId": "fba6429b-8f33-41ee-ffba-b1fc836e5ae8"
      },
      "execution_count": 3,
      "outputs": [
        {
          "output_type": "stream",
          "name": "stdout",
          "text": [
            "120\n"
          ]
        }
      ]
    },
    {
      "cell_type": "markdown",
      "source": [
        "Write a Python program to get the smallest number from a list."
      ],
      "metadata": {
        "id": "DMiLnyotv6S6"
      }
    },
    {
      "cell_type": "code",
      "source": [
        "list1 = [4, 2, 3, 4, 5]\n",
        "min = list1[0]\n",
        "for i in list1:\n",
        "    if i < min:\n",
        "        min = i\n",
        "print(min)"
      ],
      "metadata": {
        "colab": {
          "base_uri": "https://localhost:8080/"
        },
        "id": "s6y2RWLSv6q8",
        "outputId": "7ddb8b2e-0a36-4447-c626-c36ccb9e2ff6"
      },
      "execution_count": 5,
      "outputs": [
        {
          "output_type": "stream",
          "name": "stdout",
          "text": [
            "2\n"
          ]
        }
      ]
    },
    {
      "cell_type": "markdown",
      "source": [
        "Write a Python program to get the largest number from a list."
      ],
      "metadata": {
        "id": "rATUdNbgv65I"
      }
    },
    {
      "cell_type": "code",
      "source": [
        "list1= [4, 2, 3, 4, 5]\n",
        "max = list1[0]\n",
        "for i in list1:\n",
        "    if i>max:\n",
        "        max = i\n",
        "print(max)"
      ],
      "metadata": {
        "colab": {
          "base_uri": "https://localhost:8080/"
        },
        "id": "AAhHcr-jv7Eu",
        "outputId": "a90c7de2-a17e-4d10-ee8c-860bc5e9b643"
      },
      "execution_count": 6,
      "outputs": [
        {
          "output_type": "stream",
          "name": "stdout",
          "text": [
            "5\n"
          ]
        }
      ]
    },
    {
      "cell_type": "markdown",
      "source": [
        "Write a Python program to count the number of strings from a given list of\n",
        "strings."
      ],
      "metadata": {
        "id": "a7tvjTGhv7NL"
      }
    },
    {
      "cell_type": "code",
      "source": [
        "strigs= ['a', 'b', 'c', 'd', 'e']\n",
        "count = 0\n",
        "for i in strigs:\n",
        "    count += 1\n",
        "print(count)"
      ],
      "metadata": {
        "colab": {
          "base_uri": "https://localhost:8080/"
        },
        "id": "AyOBpj7Tv7Uj",
        "outputId": "b937be51-260b-4beb-b473-7ba7be0804f3"
      },
      "execution_count": 7,
      "outputs": [
        {
          "output_type": "stream",
          "name": "stdout",
          "text": [
            "5\n"
          ]
        }
      ]
    },
    {
      "cell_type": "markdown",
      "source": [
        "Write a Python program to clone or copy a list"
      ],
      "metadata": {
        "id": "zFadaxGIv7cP"
      }
    },
    {
      "cell_type": "code",
      "source": [
        "list1 = [1, 2, 3, 4, 5]\n",
        "list2 = list1.copy()\n",
        "print(list2)"
      ],
      "metadata": {
        "colab": {
          "base_uri": "https://localhost:8080/"
        },
        "id": "Tj0WJFaPv7ir",
        "outputId": "73897fbe-0f3b-41ae-d01d-41f9aa11e4a7"
      },
      "execution_count": 8,
      "outputs": [
        {
          "output_type": "stream",
          "name": "stdout",
          "text": [
            "[1, 2, 3, 4, 5]\n"
          ]
        }
      ]
    },
    {
      "cell_type": "markdown",
      "source": [
        "Write a Python program to remove item(s) from a given set."
      ],
      "metadata": {
        "id": "Uwe6Nm2Iv7qQ"
      }
    },
    {
      "cell_type": "code",
      "source": [
        "set1 = {1, 2, 3, 4, 5}\n",
        "set1.remove(3)\n",
        "print(set1)"
      ],
      "metadata": {
        "colab": {
          "base_uri": "https://localhost:8080/"
        },
        "id": "BCGQH58Av7xp",
        "outputId": "3f7f856a-4aa2-4345-c1fa-b0b9f9627546"
      },
      "execution_count": 9,
      "outputs": [
        {
          "output_type": "stream",
          "name": "stdout",
          "text": [
            "{1, 2, 4, 5}\n"
          ]
        }
      ]
    },
    {
      "cell_type": "markdown",
      "source": [
        "Write a Python program to check if a set is a subset of another set."
      ],
      "metadata": {
        "id": "4HGbKhx1v75N"
      }
    },
    {
      "cell_type": "code",
      "source": [
        "set1 = {1, 2, 3, 4, 5}\n",
        "set2 = {1, 2, 4}\n",
        "print(set2.issubset(set1))"
      ],
      "metadata": {
        "colab": {
          "base_uri": "https://localhost:8080/"
        },
        "id": "N_iG-oYEv8AC",
        "outputId": "b0d6f0ac-67e4-4380-e2a1-bb668f7cf7ba"
      },
      "execution_count": 12,
      "outputs": [
        {
          "output_type": "stream",
          "name": "stdout",
          "text": [
            "True\n"
          ]
        }
      ]
    },
    {
      "cell_type": "markdown",
      "source": [
        "Write a Python program to remove all elements from a given set."
      ],
      "metadata": {
        "id": "pALDwYjmv8HE"
      }
    },
    {
      "cell_type": "code",
      "source": [
        "set1 = {1, 2, 3, 4, 5}\n",
        "set1.clear()\n",
        "print(set1)"
      ],
      "metadata": {
        "colab": {
          "base_uri": "https://localhost:8080/"
        },
        "id": "irgxqbcOv8Ni",
        "outputId": "e6a24d59-7bbc-4265-f0db-1b420cea64a0"
      },
      "execution_count": 20,
      "outputs": [
        {
          "output_type": "stream",
          "name": "stdout",
          "text": [
            "set()\n"
          ]
        }
      ]
    },
    {
      "cell_type": "markdown",
      "source": [
        "Write a Python program to find the maximum and minimum values in a set."
      ],
      "metadata": {
        "id": "Hzzyq39bv8Uj"
      }
    },
    {
      "cell_type": "code",
      "source": [
        "set1 = {1, 2, 3, 4, 5}\n",
        "print(max(set1))\n",
        "print(min(set1))"
      ],
      "metadata": {
        "colab": {
          "base_uri": "https://localhost:8080/"
        },
        "id": "Da8FlB5Ov8be",
        "outputId": "416d5fa7-cc91-4000-9874-80667a9b5c53"
      },
      "execution_count": 27,
      "outputs": [
        {
          "output_type": "stream",
          "name": "stdout",
          "text": [
            "5\n",
            "1\n"
          ]
        }
      ]
    },
    {
      "cell_type": "markdown",
      "source": [
        "Write a Python program to find the index of an item in a tuple."
      ],
      "metadata": {
        "id": "aHFRzh6tv91L"
      }
    },
    {
      "cell_type": "code",
      "source": [
        "my_tuple = (10, 20, 30, 40)\n",
        "index = my_tuple.index(30)\n",
        "print(index)\n"
      ],
      "metadata": {
        "colab": {
          "base_uri": "https://localhost:8080/"
        },
        "id": "Wu0kd6tev99_",
        "outputId": "1c0dc7a5-0869-49a3-9a4a-bafdb553ad72"
      },
      "execution_count": 28,
      "outputs": [
        {
          "output_type": "stream",
          "name": "stdout",
          "text": [
            "2\n"
          ]
        }
      ]
    },
    {
      "cell_type": "markdown",
      "source": [
        "Write a Python program to convert a tuple to a dictionary."
      ],
      "metadata": {
        "id": "pFLPRmZ-v-Fa"
      }
    },
    {
      "cell_type": "code",
      "source": [
        "tpl1= (('a', 1), ('b', 2), ('c', 3))\n",
        "dict1 = dict(tpl1)\n",
        "print(dict1)"
      ],
      "metadata": {
        "colab": {
          "base_uri": "https://localhost:8080/"
        },
        "id": "5tM70qO7v-Ma",
        "outputId": "2494aa2a-2eac-491f-f7c2-7696e2a5189e"
      },
      "execution_count": 29,
      "outputs": [
        {
          "output_type": "stream",
          "name": "stdout",
          "text": [
            "{'a': 1, 'b': 2, 'c': 3}\n"
          ]
        }
      ]
    },
    {
      "cell_type": "markdown",
      "source": [
        "Write a Python program to unzip a list of tuples into individual lists."
      ],
      "metadata": {
        "id": "JIhsI02Vv-Uk"
      }
    },
    {
      "cell_type": "code",
      "source": [
        "list_of_tuples = [(1, 2, 3), (4, 5, 6)]\n",
        "unzip = list(zip(*list_of_tuples))\n",
        "print(unzip)\n"
      ],
      "metadata": {
        "colab": {
          "base_uri": "https://localhost:8080/"
        },
        "id": "msh4znqGv-bj",
        "outputId": "4412aae5-69f5-4dbb-d558-51d2084e4af3"
      },
      "execution_count": 30,
      "outputs": [
        {
          "output_type": "stream",
          "name": "stdout",
          "text": [
            "[(1, 4), (2, 5), (3, 6)]\n"
          ]
        }
      ]
    },
    {
      "cell_type": "markdown",
      "source": [
        "Write a Python program to reverse a tuple."
      ],
      "metadata": {
        "id": "5surZXScv-ji"
      }
    },
    {
      "cell_type": "code",
      "source": [
        "tpl1 = (1, 2, 3, 4, 5)\n",
        "tpl1 = tpl1[::-1]\n",
        "print(tpl1)"
      ],
      "metadata": {
        "colab": {
          "base_uri": "https://localhost:8080/"
        },
        "id": "VkzDSmrHv-qx",
        "outputId": "2082b8d2-bea3-4be6-ec99-a5d373909552"
      },
      "execution_count": 31,
      "outputs": [
        {
          "output_type": "stream",
          "name": "stdout",
          "text": [
            "(5, 4, 3, 2, 1)\n"
          ]
        }
      ]
    },
    {
      "cell_type": "markdown",
      "source": [
        "Write a Python program to convert a list of tuples into a dictionary."
      ],
      "metadata": {
        "id": "xw_Z656nv_Cw"
      }
    },
    {
      "cell_type": "code",
      "source": [
        "list_of_tuples = [('a', 1), ('b', 2), ('c', 3)]\n",
        "dict1 = dict(list_of_tuples)\n",
        "print(dict1)"
      ],
      "metadata": {
        "colab": {
          "base_uri": "https://localhost:8080/"
        },
        "id": "xIX9nKQCv_J0",
        "outputId": "01289571-4b07-477a-e4de-9f64cdd73f16"
      },
      "execution_count": 32,
      "outputs": [
        {
          "output_type": "stream",
          "name": "stdout",
          "text": [
            "{'a': 1, 'b': 2, 'c': 3}\n"
          ]
        }
      ]
    },
    {
      "cell_type": "markdown",
      "source": [
        "Write a Python program to replace the last value of tuples in a list."
      ],
      "metadata": {
        "id": "gSGXgUJev_Q0"
      }
    },
    {
      "cell_type": "code",
      "source": [
        "sample_list = [(10, 20, 40), (40, 50, 60), (70, 80, 90)]\n",
        "modified_list = [tup[:-1] + (100,) for tup in sample_list]\n",
        "print(modified_list)\n"
      ],
      "metadata": {
        "colab": {
          "base_uri": "https://localhost:8080/"
        },
        "id": "2Lr2taVtv_X2",
        "outputId": "6ec27a88-b6dc-4845-97c3-7ca8d4fbccba"
      },
      "execution_count": 33,
      "outputs": [
        {
          "output_type": "stream",
          "name": "stdout",
          "text": [
            "[(10, 20, 100), (40, 50, 100), (70, 80, 100)]\n"
          ]
        }
      ]
    },
    {
      "cell_type": "markdown",
      "source": [
        "Write a Python program to sort a tuple by its float element."
      ],
      "metadata": {
        "id": "oTvNgS_Aw1v-"
      }
    },
    {
      "cell_type": "code",
      "source": [
        "tpl1 = (('a', 1.1), ('b', 2.2), ('c', 3.3))\n",
        "tpl1 = sorted(tpl1, key=lambda x: x[1])\n",
        "print(tpl1)"
      ],
      "metadata": {
        "colab": {
          "base_uri": "https://localhost:8080/"
        },
        "id": "AYnWTryTw13L",
        "outputId": "c225fa87-b905-4aef-c89a-41ad33f67caf"
      },
      "execution_count": 34,
      "outputs": [
        {
          "output_type": "stream",
          "name": "stdout",
          "text": [
            "[('a', 1.1), ('b', 2.2), ('c', 3.3)]\n"
          ]
        }
      ]
    }
  ]
}