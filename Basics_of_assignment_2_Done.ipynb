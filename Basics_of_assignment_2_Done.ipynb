{
  "nbformat": 4,
  "nbformat_minor": 0,
  "metadata": {
    "colab": {
      "private_outputs": true,
      "provenance": []
    },
    "kernelspec": {
      "name": "python3",
      "display_name": "Python 3"
    },
    "language_info": {
      "name": "python"
    }
  },
  "cells": [
    {
      "cell_type": "markdown",
      "source": [
        "# Python program to interchange first and last elements in a list\n"
      ],
      "metadata": {
        "id": "9NXyYtIAQuIG"
      }
    },
    {
      "cell_type": "markdown",
      "source": [
        "- Examples\n",
        "\n",
        "- Input : [12, 35, 9, 56, 24]\n",
        "- Output : [24, 35, 9, 56, 12]\n",
        "\n",
        "- Input : [1, 2, 3]\n",
        "- Output : [3, 2, 1]"
      ],
      "metadata": {
        "id": "Y8j1uUT8Q6Xf"
      }
    },
    {
      "cell_type": "code",
      "source": [
        "lst1 = [12, 35, 9, 56, 24]\n",
        "lst2 = [1, 2, 3]\n",
        "\n",
        "if len(lst1) > 1:\n",
        "    lst1[0], lst1[-1] = lst1[-1], lst1[0]\n",
        "print(lst1)\n",
        "\n",
        "if len(lst2) > 1:\n",
        "    lst2[0], lst2[-1] = lst2[-1], lst2[0]\n",
        "print(lst2)"
      ],
      "metadata": {
        "id": "fK5-qaN-AiVX"
      },
      "execution_count": null,
      "outputs": []
    },
    {
      "cell_type": "markdown",
      "source": [
        "### Find the Length of a List in Python\n",
        "\n"
      ],
      "metadata": {
        "id": "h-yd-gv7RnYW"
      }
    },
    {
      "cell_type": "markdown",
      "source": [
        "- Input: lst = [10,20,30,40]\n",
        "- Output: 4\n",
        "- Explanation: The output is 4 because thelength of the list is  4."
      ],
      "metadata": {
        "id": "AapkQMkGRqqg"
      }
    },
    {
      "cell_type": "code",
      "source": [
        "lst = [10, 20, 30, 40]\n",
        "print(len(lst))\n"
      ],
      "metadata": {
        "id": "3WgoxJmJkwnE"
      },
      "execution_count": null,
      "outputs": []
    },
    {
      "cell_type": "markdown",
      "source": [
        "### Python | Find elements of a list by indices\n",
        "- Input : lst1 = [10, 20, 30, 40, 50]\n",
        "-        lst2 = [0, 2, 4]\n",
        "- Output : [10, 30, 50]"
      ],
      "metadata": {
        "id": "Y-XZTe1ES7pJ"
      }
    },
    {
      "cell_type": "code",
      "source": [
        "lst1 = [10, 20, 30, 40, 50]\n",
        "indices = [0, 2, 4]\n",
        "output = [lst1[i]for i in indices]\n",
        "print(output)"
      ],
      "metadata": {
        "id": "yxHD2wahlObc"
      },
      "execution_count": null,
      "outputs": []
    },
    {
      "cell_type": "markdown",
      "source": [
        "# Python program to find the String in a List\n"
      ],
      "metadata": {
        "id": "3fmiplSXTmN-"
      }
    },
    {
      "cell_type": "markdown",
      "source": [
        "- Input: l=[1, 1.0, 'have', 'a', 'geeky', 'day']; s='geeky'\n",
        "- Output: True\n",
        "- Explanation: geeky is present in the input list"
      ],
      "metadata": {
        "id": "0HdTN1z3TpYH"
      }
    },
    {
      "cell_type": "code",
      "source": [
        "l = [1, 1.0, 'have', 'a', 'geeky', 'day']\n",
        "s = 'geeky'\n",
        "print(s in l)"
      ],
      "metadata": {
        "id": "Yxkm-hjeoGEp"
      },
      "execution_count": null,
      "outputs": []
    },
    {
      "cell_type": "markdown",
      "source": [
        "\n",
        "\n",
        "```\n",
        "#  hint you can use in\n",
        "```\n",
        "\n",
        "- The in keyword is used to check if a value is present in a sequence (list, range, string etc.).\n",
        "\n"
      ],
      "metadata": {
        "id": "PID_7zUJT-HU"
      }
    },
    {
      "cell_type": "code",
      "source": [
        "fruits = [\"apple\", \"banana\", \"cherry\"]\n",
        "print(\"banana\" in fruits)"
      ],
      "metadata": {
        "id": "folb7eDqUXwk"
      },
      "execution_count": null,
      "outputs": []
    },
    {
      "cell_type": "markdown",
      "source": [
        "## Ways to find indices of value in list\n",
        "\n",
        "\n",
        "- list of animals\n",
        "- Animals= [\"cat\", \"dog\", \"tiger\"]\n",
        "- searching positiion of dog\n",
        "- output is 1"
      ],
      "metadata": {
        "id": "WI5-sy7eU9Gm"
      }
    },
    {
      "cell_type": "code",
      "source": [
        "animals = [\"cat\", \"dog\", \"tiger\"]\n",
        "search_item = \"dog\"\n",
        "index = animals.index(search_item)\n",
        "print(index)"
      ],
      "metadata": {
        "id": "SPffA4b8pClW"
      },
      "execution_count": null,
      "outputs": []
    },
    {
      "cell_type": "markdown",
      "source": [
        "### Find most frequent element in a list\n",
        "- Input : [2, 1, 2, 2, 1, 3]\n",
        "- Output : 2\n",
        "\n",
        "- Input : ['Dog', 'Cat', 'Dog']\n",
        "- Output : Dog"
      ],
      "metadata": {
        "id": "-WY6GZpgVjs-"
      }
    },
    {
      "cell_type": "markdown",
      "source": [
        "- hint you can use max in python"
      ],
      "metadata": {
        "id": "iplk5uDKfiye"
      }
    },
    {
      "cell_type": "code",
      "source": [
        "lst = [2, 1, 2, 2, 1, 3]\n",
        "\n",
        "frequency = {}\n",
        "\n",
        "for item in lst:\n",
        "    if item in frequency:\n",
        "        frequency[item] += 1\n",
        "    else:\n",
        "        frequency[item] = 1\n",
        "\n",
        "most_frequent = max(frequency, key=frequency.get)\n",
        "\n",
        "print(\"Most frequent element:\", most_frequent)\n",
        "\n",
        "lst = ['Dog', 'Cat', 'Dog']\n",
        "\n",
        "frequency = {}\n",
        "\n",
        "for item in lst:\n",
        "    if item in frequency:\n",
        "        frequency[item] += 1\n",
        "    else:\n",
        "        frequency[item] = 1\n",
        "\n",
        "most_frequent = max(frequency, key=frequency.get)\n",
        "\n",
        "print(\"Most frequent element:\", most_frequent)\n",
        "\n"
      ],
      "metadata": {
        "id": "1aNigoHesy7P"
      },
      "execution_count": null,
      "outputs": []
    },
    {
      "cell_type": "markdown",
      "source": [
        "## Remove an Item from the List in Python.\n",
        "- Input: ['Rose',' Lily', 'Lotus', 'Sun', 'Sunflower']\n",
        "- Delete: 'Sun'\n",
        "- Output: ['Rose',' Lily', 'Lotus', 'Sunflower']\n",
        "- Explanation: In this, we have removed the 'Sun' element from the given list"
      ],
      "metadata": {
        "id": "-vF6f8UQZIgq"
      }
    },
    {
      "cell_type": "code",
      "source": [
        "lst = ['Rose', 'Lily', 'Lotus', 'Sun', 'Sunflower']\n",
        "item_to_remove = 'Sun'\n",
        "lst.remove(item_to_remove)\n",
        "print(lst)"
      ],
      "metadata": {
        "id": "PbkjP1ARyaQ9"
      },
      "execution_count": null,
      "outputs": []
    },
    {
      "cell_type": "markdown",
      "source": [
        "# Remove multiple elements from a list in Python\n",
        "- Input: [12, 15, 3, 10]\n",
        "- Output: Remove = [12, 3], New_List = [15, 10]\n",
        "\n",
        "- Input: [11, 5, 17, 18, 23, 50]\n",
        "- Output: Remove = [1:5], New_list = [11, 50]"
      ],
      "metadata": {
        "id": "l_YTnBftZe7V"
      }
    },
    {
      "cell_type": "code",
      "source": [
        "lst = [12, 15, 3, 10]\n",
        "\n",
        "remove = [12, 3]\n",
        "\n",
        "new_list = [item for item in lst if item not in remove]\n",
        "\n",
        "print(\"Remove:\", remove)\n",
        "print(\"New_List:\", new_list)\n",
        "\n",
        "lst = [11, 5, 17, 18, 23, 50]\n",
        "\n",
        "remove = lst[1:5]\n",
        "new_list = lst[:1] + lst[5:]\n",
        "\n",
        "print(\"Remove:\", remove)\n",
        "print(\"New_List:\", new_list)\n"
      ],
      "metadata": {
        "id": "cfKpMhOm1l36"
      },
      "execution_count": null,
      "outputs": []
    },
    {
      "cell_type": "markdown",
      "source": [
        "# python program to check whether the string is Palindrome  and get the str from user"
      ],
      "metadata": {
        "id": "yYoINEUvcG4-"
      }
    },
    {
      "cell_type": "markdown",
      "source": [
        "- Input : malayalam\n",
        "- Output : True\n",
        "\n",
        "- Input : geeks\n",
        "- Output : False"
      ],
      "metadata": {
        "id": "ARhC7ZL6cvjO"
      }
    },
    {
      "cell_type": "code",
      "source": [
        "s = input(\"Enter a string: \")\n",
        "\n",
        "is_palindrome = s == s[::-1]\n",
        "\n",
        "print(is_palindrome)\n"
      ],
      "metadata": {
        "id": "ZlppL9D4Bdsm"
      },
      "execution_count": null,
      "outputs": []
    },
    {
      "cell_type": "markdown",
      "source": [
        "### Reverse Words in a Given String in Python\n",
        "- Input : str =\" geeks quiz practice code\"\n",
        "- Output : str = code practice quiz geeks  \n",
        "- Input : str = \"my name is laxmi\"\n",
        "- output : str= laxmi is name my"
      ],
      "metadata": {
        "id": "_EYlmszadOww"
      }
    },
    {
      "cell_type": "code",
      "source": [
        "str1 = \" geeks quiz practice code\"\n",
        "str2 = \"my name is laxmi\"\n",
        "str1_Reverse = ' '.join(str1.split()[::-1])\n",
        "str2_Reverse = ' '.join(str2.split()[::-1])\n",
        "\n",
        "print(str1_Reverse)\n",
        "print(str2_Reverse)"
      ],
      "metadata": {
        "id": "9GZ9VotiB-yR"
      },
      "execution_count": null,
      "outputs": []
    },
    {
      "cell_type": "markdown",
      "source": [
        "### Find length of a string in python\n",
        "- Input : 'abc'\n",
        "- Output : 3\n",
        "\n",
        "- Input : 'hello world !'\n",
        "- Output : 13\n",
        "\n",
        "- Input : ' h e l   l  o '\n",
        "- Output :14"
      ],
      "metadata": {
        "id": "242TCJPleCof"
      }
    },
    {
      "cell_type": "code",
      "source": [
        "s1 = 'abc'\n",
        "s2 = 'hello world !'\n",
        "s3 = ' h e l l o '\n",
        "\n",
        "length_s1 = len(s1)\n",
        "length_s2 = len(s2)\n",
        "length_s3 = len(s3)\n",
        "\n",
        "print(length_s1)\n",
        "print(length_s2)\n",
        "print(length_s3)\n"
      ],
      "metadata": {
        "id": "qkth_klmD57i"
      },
      "execution_count": null,
      "outputs": []
    },
    {
      "cell_type": "markdown",
      "source": [
        "###  Avoid Spaces in string length\n",
        "\n",
        "\n",
        "```\n",
        "- string = \"Hello, world!  \"\n",
        "- with space 15\n",
        "- without space is 12\n",
        "```\n",
        "\n",
        "\n"
      ],
      "metadata": {
        "id": "rE_STqG_fFJs"
      }
    },
    {
      "cell_type": "markdown",
      "source": [
        "-  hint you can use len in python to get len of str or list"
      ],
      "metadata": {
        "id": "zRnIlNqSf3ni"
      }
    },
    {
      "cell_type": "code",
      "source": [
        "string = \"Hello, world!  \"\n",
        "length_with_spaces = len(string)\n",
        "length_without_spaces = len(string.replace(\" \",\"\"))\n",
        "print(\"Length with spaces:\", length_with_spaces)\n",
        "print(\"Length without spaces:\", length_without_spaces)"
      ],
      "metadata": {
        "id": "KccrBWqNEl3d"
      },
      "execution_count": null,
      "outputs": []
    },
    {
      "cell_type": "markdown",
      "source": [
        "# Smallest Length String in the list\n",
        "- test_list = ['gfg', 'is', 'best', 'for', 'geeks']\n",
        "- Minimum length string is : is\n"
      ],
      "metadata": {
        "id": "FebQFluegBW2"
      }
    },
    {
      "cell_type": "markdown",
      "source": [
        "-  hint you can use min in python"
      ],
      "metadata": {
        "id": "Nn_2JLRJgZ3h"
      }
    },
    {
      "cell_type": "code",
      "source": [
        "test_list = ['gfg', 'is', 'best', 'for', 'geeks']\n",
        "min_length_string = min(test_list,key=len)\n",
        "print(\"Minimum length string is:\", min_length_string)"
      ],
      "metadata": {
        "id": "AqsrVmcJGjQz"
      },
      "execution_count": null,
      "outputs": []
    },
    {
      "cell_type": "code",
      "source": [],
      "metadata": {
        "id": "NMpX-2xTHdbB"
      },
      "execution_count": null,
      "outputs": []
    }
  ]
}