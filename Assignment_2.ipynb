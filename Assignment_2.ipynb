{
  "cells": [
    {
      "cell_type": "markdown",
      "metadata": {
        "id": "Ui8LKXjlii3V"
      },
      "source": [
        "### 1) Write a program to print the maximum between two numbers. (one-line conditional statement)\n"
      ]
    },
    {
      "cell_type": "code",
      "source": [
        "print(max(int(input(\"Enter first number: \")), int(input(\"Enter second number: \"))))\n"
      ],
      "metadata": {
        "id": "GBFkw3YMhoyy"
      },
      "execution_count": null,
      "outputs": []
    },
    {
      "cell_type": "markdown",
      "metadata": {
        "id": "xQB_yP4rirZS"
      },
      "source": [
        "### 2) Write a program to find the maximum between three numbers.\n"
      ]
    },
    {
      "cell_type": "code",
      "source": [
        "print(max(int(input(\"Enter first number: \")), int(input(\"Enter second number: \")), int(input(\"Enter third number: \"))))\n"
      ],
      "metadata": {
        "id": "ZNEfKaROiOxm"
      },
      "execution_count": null,
      "outputs": []
    },
    {
      "cell_type": "markdown",
      "metadata": {
        "id": "grc5Gk_RjFBe"
      },
      "source": [
        "### 4) Write a  program to check whether a number is even or odd\n"
      ]
    },
    {
      "cell_type": "code",
      "source": [
        "if int(input(\"Enter a number: \")) % 2 == 0:\n",
        "    print(\"Even\")\n",
        "else:\n",
        "    print(\"Odd\")"
      ],
      "metadata": {
        "id": "JPAa8-bJkNDy"
      },
      "execution_count": null,
      "outputs": []
    },
    {
      "cell_type": "markdown",
      "metadata": {
        "id": "JeN4yaIMjNlC"
      },
      "source": [
        "### 5) Write a  program to store the weekdays in a list and access the week day and print it by index.\n"
      ]
    },
    {
      "cell_type": "code",
      "source": [
        "weekdays = [\"Monday\", \"Tuesday\", \"Wednesday\", \"Thursday\", \"Friday\", \"Saturday\", \"Sunday\"]\n",
        "print(weekdays[int(input(\"Enter a number between 0 and 6: \"))])"
      ],
      "metadata": {
        "id": "Sql7an1dke3v"
      },
      "execution_count": null,
      "outputs": []
    },
    {
      "cell_type": "markdown",
      "metadata": {
        "id": "PkPPTrivjran"
      },
      "source": [
        "### 6)Write a program to store numbers in the List and print its reverse"
      ]
    },
    {
      "cell_type": "code",
      "source": [
        "numbers = [1, 2, 3, 4, 5]\n",
        "numbers.reverse()\n",
        "print(numbers)\n"
      ],
      "metadata": {
        "id": "rxLaD08_kwS3"
      },
      "execution_count": null,
      "outputs": []
    },
    {
      "cell_type": "markdown",
      "metadata": {
        "id": "2JoHNIaCj7fR"
      },
      "source": [
        "### 7) Write a program to print the multiplcation table of any number"
      ]
    },
    {
      "cell_type": "code",
      "source": [
        "num = int(input(\"Enter a number: \"))\n",
        "for i in range(1, 13):\n",
        "    print(f\"{num} x {i} = {num * i}\")\n"
      ],
      "metadata": {
        "id": "X_AmZ2uElaIk"
      },
      "execution_count": null,
      "outputs": []
    },
    {
      "cell_type": "markdown",
      "metadata": {
        "id": "WTIX9yh1kLs-"
      },
      "source": [
        "### 8) Write a program to print all even numbers between 1 to 100.(using while loop and for loop)"
      ]
    },
    {
      "cell_type": "code",
      "source": [
        "for i in range(1, 101):\n",
        "    if i % 2 == 0:\n",
        "        print(i)"
      ],
      "metadata": {
        "id": "RLviU9oXpJlx"
      },
      "execution_count": null,
      "outputs": []
    },
    {
      "cell_type": "code",
      "source": [
        "i=1\n",
        "while i <= 100:\n",
        "    if i % 2 == 0:\n",
        "        print(i)\n",
        "    i += 1"
      ],
      "metadata": {
        "id": "rnUz3AUOpa8W"
      },
      "execution_count": null,
      "outputs": []
    },
    {
      "cell_type": "markdown",
      "metadata": {
        "id": "QJWzElXagYxP"
      },
      "source": []
    }
  ],
  "metadata": {
    "colab": {
      "private_outputs": true,
      "provenance": []
    },
    "kernelspec": {
      "display_name": "Python 3",
      "name": "python3"
    },
    "language_info": {
      "name": "python"
    }
  },
  "nbformat": 4,
  "nbformat_minor": 0
}