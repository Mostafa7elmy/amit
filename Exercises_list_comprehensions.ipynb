{
  "cells": [
    {
      "cell_type": "markdown",
      "metadata": {
        "id": "RsPJmlPZF3KC"
      },
      "source": [
        "## Exercise:\n",
        "\n",
        "- You have a list of strings that contain messy text data. Your task is to clean the text by performing the following operations using list comprehensions:\n",
        "\n",
        "1. Remove leading and trailing whitespace from each string.\n",
        "2. Convert all characters to lowercase.\n",
        "3. Remove any non-alphanumeric characters (except spaces).\n",
        "4. Replace multiple spaces with a single space."
      ]
    },
    {
      "cell_type": "code",
      "execution_count": null,
      "metadata": {
        "id": "OKc-C_YpFtU0"
      },
      "outputs": [],
      "source": [
        "raw_data = [\n",
        "    \"  Hello, World!   \",\n",
        "    \"Python   is Great.   \",\n",
        "    \"Data-Science? Is Amazing!!  \",\n",
        "    \" Clean    Your  DATA!!!   \"\n",
        "]\n"
      ]
    },
    {
      "cell_type": "markdown",
      "metadata": {
        "id": "ma_fPPhUGIh7"
      },
      "source": [
        "## Goal:\n",
        "\n",
        "- Create a cleaned version of the raw_data list using list comprehensions. The expected output should be:"
      ]
    },
    {
      "cell_type": "code",
      "execution_count": null,
      "metadata": {
        "id": "hDg7Kx_RGGzJ"
      },
      "outputs": [],
      "source": [
        "cleaned_data = [\n",
        "    \"hello world\",\n",
        "    \"python is great\",\n",
        "    \"data science is amazing\",\n",
        "    \"clean your data\"\n",
        "]\n"
      ]
    },
    {
      "cell_type": "code",
      "source": [
        "raw_data = [\n",
        "    \"  Hello, World!   \",\n",
        "    \"Python   is Great.   \",\n",
        "    \"Data-Science? Is Amazing!!  \",\n",
        "    \" Clean    Your  DATA!!!   \"\n",
        "]\n",
        "step1 = [i.strip() for i in raw_data]\n",
        "step2 = [i.lower() for i in raw_data]\n",
        "\n",
        "step3 = [' '.join(''.join([char if char.isalnum() or char == \" \" else \"\" for char in s]).split()) for s in step2]\n",
        "\n",
        "print(step3)"
      ],
      "metadata": {
        "id": "5cnQsOEjv9HY",
        "outputId": "22bfac3a-04a3-43e2-af00-8773e8bb23cc",
        "colab": {
          "base_uri": "https://localhost:8080/"
        }
      },
      "execution_count": 7,
      "outputs": [
        {
          "output_type": "stream",
          "name": "stdout",
          "text": [
            "['hello world', 'python is great', 'datascience is amazing', 'clean your data']\n"
          ]
        }
      ]
    },
    {
      "cell_type": "markdown",
      "metadata": {
        "id": "toqM-sngGXXG"
      },
      "source": [
        "## Exercise Set:\n",
        "\n",
        "- You have a list of strings that contain messy text data. Your task is to clean the text by performing the following operations:\n",
        "\n",
        "1. Remove leading and trailing whitespace from each string.\n",
        "2. Convert all characters to lowercase.\n",
        "3. Remove any non-alphanumeric characters (except spaces).\n",
        "4. Replace multiple spaces with a single space.\n"
      ]
    },
    {
      "cell_type": "code",
      "execution_count": null,
      "metadata": {
        "id": "ulQwcbMJGPJM"
      },
      "outputs": [],
      "source": [
        "raw_data = [\n",
        "    \"  Hello, World!   \",\n",
        "    \"Python   is Great.   \",\n",
        "    \"Data-Science? Is Amazing!!  \",\n",
        "    \" Clean    Your  DATA!!!   \",\n",
        "    \"EXtra     Spaces       Everywhere 123  \",\n",
        "    \"Mix3D      numb3r5 aND L3tt3rs!!!\"\n",
        "]\n"
      ]
    },
    {
      "cell_type": "markdown",
      "metadata": {
        "id": "Vx6KS9tdGfmt"
      },
      "source": [
        "## Goal:\n",
        "\n",
        "- Create a function clean_text that takes raw_data as input and returns a cleaned version of the list. The expected output should be:"
      ]
    },
    {
      "cell_type": "code",
      "execution_count": 8,
      "metadata": {
        "id": "_eswZSg2GdrV"
      },
      "outputs": [],
      "source": [
        "cleaned_data = [\n",
        "    \"hello world\",\n",
        "    \"python is great\",\n",
        "    \"data science is amazing\",\n",
        "    \"clean your data\",\n",
        "    \"extra spaces everywhere 123\",\n",
        "    \"mix3d numb3r5 and l3tt3rs\"\n",
        "]\n"
      ]
    },
    {
      "cell_type": "code",
      "source": [
        "raw_data = [\n",
        "    \"  Hello, World!   \",\n",
        "    \"Python   is Great.   \",\n",
        "    \"Data-Science? Is Amazing!!  \",\n",
        "    \" Clean    Your  DATA!!!   \",\n",
        "    \"EXtra     Spaces       Everywhere 123  \",\n",
        "    \"Mix3D      numb3r5 aND L3tt3rs!!!\"\n",
        "]\n",
        "\n",
        "step1 = [i.strip() for i in raw_data]\n",
        "step2 = [i.lower() for i in raw_data]\n",
        "\n",
        "step3 = [ ' '.join(''.join([char if char.isalnum() or char == \" \" else \"\" for char in s]).split()) for s in step2]\n",
        "\n",
        "print(step3)"
      ],
      "metadata": {
        "id": "NnXEBgS60r5u",
        "outputId": "a74e6027-c824-40d5-97af-950874f31a86",
        "colab": {
          "base_uri": "https://localhost:8080/"
        }
      },
      "execution_count": 21,
      "outputs": [
        {
          "output_type": "stream",
          "name": "stdout",
          "text": [
            "['hello world', 'python is great', 'datascience is amazing', 'clean your data', 'extra spaces everywhere 123', 'mix3d numb3r5 and l3tt3rs']\n"
          ]
        }
      ]
    },
    {
      "cell_type": "markdown",
      "metadata": {
        "id": "tqEwkQLjGosc"
      },
      "source": [
        "## Exercise 1: Squaring Numbers\n",
        "- Input :numbers = [1, 2, 3, 4, 5]\n",
        "- Output: squared_numbers = [1, 4, 9, 16, 25]\n",
        "\n"
      ]
    },
    {
      "cell_type": "code",
      "source": [
        "numbers = [1, 2, 3, 4, 5]\n",
        "step1 = [i**2 for i in numbers]\n",
        "print(\"squared_numbers = \" , step1)"
      ],
      "metadata": {
        "id": "3LFcviC-3IRP",
        "outputId": "470a7b62-2237-4e1f-8d4d-ee146f7378ec",
        "colab": {
          "base_uri": "https://localhost:8080/"
        }
      },
      "execution_count": 44,
      "outputs": [
        {
          "output_type": "stream",
          "name": "stdout",
          "text": [
            "squared_numbers =  [1, 4, 9, 16, 25]\n"
          ]
        }
      ]
    },
    {
      "cell_type": "markdown",
      "metadata": {
        "id": "vlt0-jf_G23-"
      },
      "source": [
        "## Exercise 2: Filtering Even Numbers\n",
        "- Task: Given a list of numbers, create a new list containing only the even numbers."
      ]
    },
    {
      "cell_type": "markdown",
      "metadata": {
        "id": "Arjtv0Q8G7ee"
      },
      "source": [
        "- Input:\n",
        "- numbers = [1, 2, 3, 4, 5, 6, 7, 8, 9, 10]\n",
        "- Output:\n",
        "- even_numbers = [2, 4, 6, 8, 10]"
      ]
    },
    {
      "cell_type": "code",
      "source": [
        "numbers = [1, 2, 3, 4, 5, 6, 7, 8, 9, 10]\n",
        "step1 = [i for i in numbers if i % 2 ==0]\n",
        "print(\"even_numbers = \", step1)"
      ],
      "metadata": {
        "id": "cxt0EQNN4rMh",
        "outputId": "bf7f7906-5183-4bc6-abb4-927198e2ad97",
        "colab": {
          "base_uri": "https://localhost:8080/"
        }
      },
      "execution_count": 5,
      "outputs": [
        {
          "output_type": "stream",
          "name": "stdout",
          "text": [
            "even_numbers =  [2, 4, 6, 8, 10]\n"
          ]
        }
      ]
    },
    {
      "cell_type": "markdown",
      "metadata": {
        "id": "8Wj5dwB-HE5L"
      },
      "source": [
        "##Exercise 3: Extracting Initials\n",
        "-Task: Given a list of names, create a new list with the initials of each name.\n",
        "\n",
        "- Input:\n",
        "- names = [\"Alice Smith\", \"Bob Johnson\", \"Charlie Brown\"]\n",
        "- Output:\n",
        "- initials = [\"A.S.\", \"B.J.\", \"C.B.\"]"
      ]
    },
    {
      "cell_type": "code",
      "source": [
        "names = [\"Alice Smith\", \"Bob Johnson\", \"Charlie Brown\"]\n",
        "step1 = ['.'.join([s[0] for s in i.split()]) + '.' for i in names]\n",
        "print(\"initials = \" , step1)"
      ],
      "metadata": {
        "id": "Zh4fNSad5bw9",
        "outputId": "0dc08dbd-c15c-4d81-d0e3-c5e48d40b628",
        "colab": {
          "base_uri": "https://localhost:8080/"
        }
      },
      "execution_count": 4,
      "outputs": [
        {
          "output_type": "stream",
          "name": "stdout",
          "text": [
            "initials =  ['A.S.', 'B.J.', 'C.B.']\n"
          ]
        }
      ]
    },
    {
      "cell_type": "markdown",
      "metadata": {
        "id": "Oqcxvo_mHTJC"
      },
      "source": [
        "## Exercise 4: Fahrenheit to Celsius\n",
        "- Task: Given a list of temperatures in Fahrenheit, create a new list with the temperatures converted to Celsius.\n",
        "\n",
        "- Input:\n",
        "fahrenheit = [32, 68, 100, 212]\n",
        "- Output:\n",
        "celsius = [0.0, 20.0, 37.77777777777778, 100.0]"
      ]
    },
    {
      "cell_type": "code",
      "source": [
        "fahrenheit = [32, 68, 100, 212]\n",
        "step1 = [(i - 32)*5/9 for i in fahrenheit]\n",
        "print(\"celsius = \" , step1)"
      ],
      "metadata": {
        "id": "NiSg8JKzC741",
        "outputId": "d2c2f430-a862-45e8-ea37-55e3e35bb3c2",
        "colab": {
          "base_uri": "https://localhost:8080/"
        }
      },
      "execution_count": 2,
      "outputs": [
        {
          "output_type": "stream",
          "name": "stdout",
          "text": [
            "celsius =  [0.0, 20.0, 37.77777777777778, 100.0]\n"
          ]
        }
      ]
    },
    {
      "cell_type": "markdown",
      "metadata": {
        "id": "T-3LEJ2dHfGy"
      },
      "source": [
        "## Exercise 5: Flattening a List of Lists\n",
        "## Task: Given a list of lists, create a new flattened list containing all the elements.\n",
        "\n",
        "- Input:\n",
        "- list_of_lists = [[1, 2, 3], [4, 5], [6, 7, 8, 9]]\n",
        "- Output:\n",
        "\n",
        "- flattened_list = [1, 2, 3, 4, 5, 6, 7, 8, 9]"
      ]
    },
    {
      "cell_type": "code",
      "source": [
        "list_of_lists = [[1, 2, 3], [4, 5], [6, 7, 8, 9]]\n",
        "step1 = [item for sublist in list_of_lists for item in sublist]\n",
        "print(\"flattened_list = \", step1)"
      ],
      "metadata": {
        "id": "VxTJwjD0DuAz",
        "outputId": "41d5993b-a0dd-4c3c-9358-fad81db79939",
        "colab": {
          "base_uri": "https://localhost:8080/"
        }
      },
      "execution_count": 3,
      "outputs": [
        {
          "output_type": "stream",
          "name": "stdout",
          "text": [
            "flattened_list =  [1, 2, 3, 4, 5, 6, 7, 8, 9]\n"
          ]
        }
      ]
    },
    {
      "cell_type": "markdown",
      "metadata": {
        "id": "JhPM7CyTHurI"
      },
      "source": [
        "## Exercise 7: Filtering Words by Length\n",
        "- Task: Given a list of words, create a new list containing only the words that are longer than 3 characters.\n",
        "\n",
        "- Input:\n",
        "words = [\"cat\", \"elephant\", \"dog\", \"tiger\"]\n",
        "- Output:\n",
        "long_words = [\"elephant\", \"tiger\"]"
      ]
    },
    {
      "cell_type": "code",
      "source": [
        "words = [\"cat\", \"elephant\", \"dog\", \"tiger\"]\n",
        "step1 = [i for i in words if len(i)>3]\n",
        "print(\"long_words = \", step1)"
      ],
      "metadata": {
        "id": "clLtQGQXvPyI",
        "outputId": "d3c7972e-f67e-4d49-f5d5-1978882476cc",
        "colab": {
          "base_uri": "https://localhost:8080/"
        }
      },
      "execution_count": 10,
      "outputs": [
        {
          "output_type": "stream",
          "name": "stdout",
          "text": [
            "long_words =  ['elephant', 'tiger']\n"
          ]
        }
      ]
    },
    {
      "cell_type": "markdown",
      "metadata": {
        "id": "7vdAwO0vIPeo"
      },
      "source": [
        "## Exercise 8: Sum of a List\n",
        "- Task: Write a function sum_list that takes a list of numbers and returns the sum of those numbers."
      ]
    },
    {
      "cell_type": "markdown",
      "metadata": {
        "id": "SLQhUqbAIUFG"
      },
      "source": [
        "- Input:\n",
        "numbers = [1, 2, 3, 4, 5]\n",
        "- Output:\n",
        "sum_list(numbers)  # Output: 15"
      ]
    },
    {
      "cell_type": "code",
      "source": [
        "def sum_list(numbers):\n",
        "    return sum(numbers)\n",
        "numbers = [1, 2, 3, 4, 5]\n",
        "sum_list(numbers)"
      ],
      "metadata": {
        "id": "lvV_A3oFL2Uc",
        "outputId": "835ef7ee-9861-4ad2-ad0e-68431ca7015b",
        "colab": {
          "base_uri": "https://localhost:8080/"
        }
      },
      "execution_count": 16,
      "outputs": [
        {
          "output_type": "execute_result",
          "data": {
            "text/plain": [
              "15"
            ]
          },
          "metadata": {},
          "execution_count": 16
        }
      ]
    },
    {
      "cell_type": "markdown",
      "metadata": {
        "id": "42tFLkQLIbKQ"
      },
      "source": [
        "## Exercise 9: Count Occurrences\n",
        "- Task: Write a function count_occurrences that takes a list and an element, and returns the number of times the element appears in the list.\n",
        "\n",
        "- Input:\n",
        "elements = [1, 2, 2, 3, 4, 2, 5]\n",
        "element_to_count = 2\n",
        "- Output:\n",
        "count_occurrences(elements, element_to_count)  # Output: 3"
      ]
    },
    {
      "cell_type": "code",
      "source": [
        "def count_occurrences(elements,element_to_count):\n",
        "    return elements.count(element_to_count)\n",
        "\n",
        "elements = [1, 2, 2, 3, 4, 2, 5]\n",
        "element_to_count = 2\n",
        "\n",
        "count_occurrences(elements,element_to_count)"
      ],
      "metadata": {
        "id": "zbfqAA2KPOAf",
        "outputId": "c4c14454-6a64-47f5-da7b-4dfc696ab0f8",
        "colab": {
          "base_uri": "https://localhost:8080/"
        }
      },
      "execution_count": 14,
      "outputs": [
        {
          "output_type": "execute_result",
          "data": {
            "text/plain": [
              "3"
            ]
          },
          "metadata": {},
          "execution_count": 14
        }
      ]
    },
    {
      "cell_type": "markdown",
      "metadata": {
        "id": "PkJkpD9kInTQ"
      },
      "source": [
        "## Exercise 10: Remove Duplicates\n",
        "- Task: Write a function remove_duplicates that takes a list and returns a new list with duplicates removed, preserving the order of the first occurrence of each element.\n",
        "\n",
        "- Input:\n",
        "items = [1, 2, 2, 3, 4, 4, 5]\n",
        "- Output:\n",
        "remove_duplicates(items)  # Output: [1, 2, 3, 4, 5]"
      ]
    },
    {
      "cell_type": "code",
      "execution_count": 18,
      "metadata": {
        "id": "CIyVeSI8HQsK",
        "outputId": "04a4eb9b-4a4e-4877-be8b-784c3ba79f61",
        "colab": {
          "base_uri": "https://localhost:8080/"
        }
      },
      "outputs": [
        {
          "output_type": "execute_result",
          "data": {
            "text/plain": [
              "[1, 2, 3, 4, 5]"
            ]
          },
          "metadata": {},
          "execution_count": 18
        }
      ],
      "source": [
        "def remove_duplicates(items):\n",
        "    seen = []\n",
        "    return [i for i in items if i not in  seen and seen.append (i) is None]\n",
        "\n",
        "items = [1, 2, 2, 3, 4, 4, 5]\n",
        "\n",
        "remove_duplicates(items)"
      ]
    }
  ],
  "metadata": {
    "colab": {
      "provenance": []
    },
    "kernelspec": {
      "display_name": "Python 3 (ipykernel)",
      "language": "python",
      "name": "python3"
    },
    "language_info": {
      "codemirror_mode": {
        "name": "ipython",
        "version": 3
      },
      "file_extension": ".py",
      "mimetype": "text/x-python",
      "name": "python",
      "nbconvert_exporter": "python",
      "pygments_lexer": "ipython3",
      "version": "3.10.9"
    }
  },
  "nbformat": 4,
  "nbformat_minor": 0
}